{
 "cells": [
  {
   "cell_type": "markdown",
   "id": "c747cfba",
   "metadata": {},
   "source": [
    "1.In the below elements which of them are values or an expression? eg:-values can be integer or string and expression will be mathematical operators.\n",
    "\n",
    "Ans:-\n",
    "\n",
    "    Operators: + , - , * , /\n",
    "    \n",
    "    values: 'hello', -87.8, 6"
   ]
  },
  {
   "cell_type": "markdown",
   "id": "fe36f26e",
   "metadata": {},
   "source": [
    "2. What is the difference between string and variable?\n",
    "\n",
    "Ans:-\n",
    "\n",
    "    Variable is a store of information and a string is a type of information which you can store in a variable, a string enclosed with \" \".\n",
    "    eg:-\n",
    "        string H =\"himanshu\"\n",
    "        \n",
    "        here H is the variable and type of value it stores is in string.\n",
    "    "
   ]
  },
  {
   "cell_type": "markdown",
   "id": "2fb0419c",
   "metadata": {},
   "source": [
    "3. Describe three different data types?\n",
    "\n",
    "Ans:-\n",
    "\n",
    "    (i) Integer : A whole number eg: 1,2,9,19\n",
    "    \n",
    "    (ii) Floating point Number : Number with Decimal Point  eg: 1.20,2.45,0.14\n",
    "    \n",
    "    (iii) String : collection of alphabets,words,characters  eg: \"hello\",\"test123\",\"i love python\" .\n",
    "    "
   ]
  },
  {
   "cell_type": "markdown",
   "id": "0d40df2f",
   "metadata": {},
   "source": [
    "4. What is an expression made up of? What do all expressions do?\n",
    "\n",
    "Ans:-\n",
    "\n",
    "An expression is a combination of values and operators , all expression can be converted into a single value."
   ]
  },
  {
   "cell_type": "markdown",
   "id": "21a9232c",
   "metadata": {},
   "source": [
    "5. This assignment statements, like spam = 10. What is the difference between an expression and a statement?\n",
    "\n",
    "Ans:-\n",
    "\n",
    "  An expression evaluates to a single value , from the above eg :\n",
    "                            spam = 10\n",
    "                       Here spam is the variables\n",
    "                       and 3 : is the value\n",
    "                       = : is the operators\n",
    "                       \n",
    "  where as a statement doesn't evaluate to a single value.                                           \n",
    "  "
   ]
  },
  {
   "cell_type": "markdown",
   "id": "c4f9ac31",
   "metadata": {},
   "source": [
    "6. After running the following code, what does the variable bacon contain?\n",
    "bacon = 22\n",
    "bacon + 1\n",
    "\n",
    "Ans: this would need an assignment statement"
   ]
  },
  {
   "cell_type": "code",
   "execution_count": 1,
   "id": "7b274f75",
   "metadata": {},
   "outputs": [],
   "source": [
    "bacon=22\n",
    "bacon=bacon + 1"
   ]
  },
  {
   "cell_type": "code",
   "execution_count": 2,
   "id": "911dadd5",
   "metadata": {},
   "outputs": [
    {
     "data": {
      "text/plain": [
       "23"
      ]
     },
     "execution_count": 2,
     "metadata": {},
     "output_type": "execute_result"
    }
   ],
   "source": [
    "bacon"
   ]
  },
  {
   "cell_type": "markdown",
   "id": "ad53768c",
   "metadata": {},
   "source": [
    "7. What should the values of the following two terms be?\n",
    "\n",
    "'spam' + 'spamspam'\n",
    "\n",
    "'spam' * 3\n",
    "\n",
    "Ans: Both the expression evaluate the string\n",
    "    \n",
    "      'spamspamspam'"
   ]
  },
  {
   "cell_type": "code",
   "execution_count": 3,
   "id": "fa466fad",
   "metadata": {},
   "outputs": [
    {
     "data": {
      "text/plain": [
       "'spamspamspam'"
      ]
     },
     "execution_count": 3,
     "metadata": {},
     "output_type": "execute_result"
    }
   ],
   "source": [
    "'spam' + 'spamspam'"
   ]
  },
  {
   "cell_type": "code",
   "execution_count": 4,
   "id": "08ed8b0b",
   "metadata": {},
   "outputs": [
    {
     "data": {
      "text/plain": [
       "'spamspamspam'"
      ]
     },
     "execution_count": 4,
     "metadata": {},
     "output_type": "execute_result"
    }
   ],
   "source": [
    "'spam' * 3"
   ]
  },
  {
   "cell_type": "markdown",
   "id": "db7b3f83",
   "metadata": {},
   "source": [
    "8. Why is eggs a valid variable name while 100 is invalid?\n",
    "\n",
    "Ans: Variable names cannot begin with a number."
   ]
  },
  {
   "cell_type": "markdown",
   "id": "8ca36fe9",
   "metadata": {},
   "source": [
    "9. What three functions can be used to get the integer, floating-point number, or string version of a value?\n",
    "\n",
    "Ans:-\n",
    "\n",
    "  int()\n",
    "  \n",
    "  float()\n",
    "  \n",
    "  str()\n",
    "  \n",
    "  \n",
    "  "
   ]
  },
  {
   "cell_type": "markdown",
   "id": "4bf4340b",
   "metadata": {},
   "source": [
    "10. Why does this expression cause an error? How can you fix it?\n",
    " 'i have eaten'+99+'burritos'\n",
    " \n",
    " Ans:-\n",
    " \n",
    "  Because 99 is an integer , and only strings can be concatenated to other strings with the + operator. The correct way is-"
   ]
  },
  {
   "cell_type": "code",
   "execution_count": 5,
   "id": "bb902a3e",
   "metadata": {},
   "outputs": [
    {
     "data": {
      "text/plain": [
       "'i have eaten99burritos'"
      ]
     },
     "execution_count": 5,
     "metadata": {},
     "output_type": "execute_result"
    }
   ],
   "source": [
    "'i have eaten'+'99'+'burritos'"
   ]
  },
  {
   "cell_type": "code",
   "execution_count": null,
   "id": "68d7e42e",
   "metadata": {},
   "outputs": [],
   "source": []
  }
 ],
 "metadata": {
  "kernelspec": {
   "display_name": "Python 3 (ipykernel)",
   "language": "python",
   "name": "python3"
  },
  "language_info": {
   "codemirror_mode": {
    "name": "ipython",
    "version": 3
   },
   "file_extension": ".py",
   "mimetype": "text/x-python",
   "name": "python",
   "nbconvert_exporter": "python",
   "pygments_lexer": "ipython3",
   "version": "3.9.12"
  }
 },
 "nbformat": 4,
 "nbformat_minor": 5
}
